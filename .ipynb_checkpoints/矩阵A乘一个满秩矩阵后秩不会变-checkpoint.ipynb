{
 "cells": [
  {
   "cell_type": "markdown",
   "metadata": {},
   "source": [
    "# 为什么矩阵A乘一个满秩矩阵后秩仍是rank(A)\n",
    "- - -\n",
    "**这部分思路有点乱，先放弃.如果想明白了再补上**  \n",
    "从线性变换的角度看。我们对m行，n列,秩为r的矩阵A左乘一个m行m列的满秩矩阵M，即对A的列空间做线性变换  \n",
    "$A=(\\vec{a^1},...,\\vec{a^m})$。假设A是m维空间中的一组向量，变换前基是$\\vec{v^1}...\\vec{v^m}$,经M变换后基$\\vec{v^1}...\\vec{v^m}$变成基$\\vec{u^1}...\\vec{u^m}$  \n",
    "* "
   ]
  },
  {
   "cell_type": "markdown",
   "metadata": {},
   "source": [
    "- - -\n",
    "从初等变换的角度看：满秩矩阵都可以分解为三种初等矩阵的乘积：交换两行、一行乘k、把一行加到另一行上。显然三种操作作用于一个矩阵A上，都不会改变A的秩。对列也同理"
   ]
  },
  {
   "cell_type": "code",
   "execution_count": null,
   "metadata": {},
   "outputs": [],
   "source": []
  }
 ],
 "metadata": {
  "kernelspec": {
   "display_name": "Python 3",
   "language": "python",
   "name": "python3"
  },
  "language_info": {
   "codemirror_mode": {
    "name": "ipython",
    "version": 3
   },
   "file_extension": ".py",
   "mimetype": "text/x-python",
   "name": "python",
   "nbconvert_exporter": "python",
   "pygments_lexer": "ipython3",
   "version": "3.6.4"
  }
 },
 "nbformat": 4,
 "nbformat_minor": 2
}
