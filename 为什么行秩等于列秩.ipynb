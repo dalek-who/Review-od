{
 "cells": [
  {
   "cell_type": "markdown",
   "metadata": {},
   "source": [
    "# 为什么矩阵的行秩等于列秩\n",
    "- - -\n",
    "设矩阵A,有m行n列，列空间的秩为r。$\\vec{x}$是m维向量  \n",
    "矩阵乘是一种把行空间、列空间结合着看的好方法。对于Ax=0：\n",
    "* 从列空间的角度看，Ax是通过x对A的列向量线性组合：$A=(\\vec{a^1},...,\\vec{a^m})$.$Ax=x_1\\vec{a^1}+...+x_r\\vec{a^r}+...+x_m\\vec{a^m}=0$,其中$\\vec{a^1}...\\vec{a^r}$是A的列向量中的一组基。于是A的列空间中的任何向量都可以由$\\vec{a^1}...\\vec{a^r}$的一个唯一的线性组合表示,即确定唯一的$x_1...x_r$。于是，只要我们确定了$x_{r+1}\\vec{a^{r+1}}...+x_m\\vec{a^m}$中的$x_{r+1}...x_m$,我们就唯一确定了$x_1...x_r$。即：$A\\vec{x}=0$的解空间中,$x_{r+1}...x_m$是自由变量。于是，dim(Ax=0的解空间)=m-r。于是有dim(A的列空间)+dim(Ax=0的解空间)=m\n",
    "* 从行空间的角度看，Ax是A的每一行依次与x做内积：\n",
    "  $A\\vec{x}=\n",
    " \\left(\n",
    " \\begin{matrix}\n",
    "   \\vec{a_1} \\\\\n",
    "   ... \\\\\n",
    "   \\vec{a_m}\n",
    "  \\end{matrix}\n",
    "  \\right)\\vec{x}=\n",
    "  \\left(\n",
    " \\begin{matrix}\n",
    "   \\vec{a_1}·\\vec{x} \\\\\n",
    "   ... \\\\\n",
    "   \\vec{a_m}·\\vec{x}\n",
    "  \\end{matrix}\n",
    "  \\right)=0$，即$\\vec{a_i}·\\vec{x}=0$，于是$\\vec{x}$张成的空间是A的行向量(m维)的正交补空间。于是dim(A的行空间)+dim(Ax=0的解空间)=m\n",
    "  \n",
    "综上：dim(A的列空间)+dim(Ax=0的解空间)=dim(A的行空间)+dim(Ax=0的解空间)=m，于是dim(A的列空间)=dim(A的行空间)，行秩等于列秩  \n",
    "另外看出的一点：\n",
    "* $Ax=0$的解空间(也叫A的零空间)是A的行空间的正交补\n",
    "* $A^Ty=0$的解空间($y^TA=0$的解空间，也叫A的左零空间)是A的列向量的正交补"
   ]
  },
  {
   "cell_type": "markdown",
   "metadata": {},
   "source": [
    "- - -\n",
    "latex矩阵代码以及效果：\n",
    "$\n",
    " \\left\\{\n",
    " \\begin{matrix}\n",
    "   1 & 2 & 3 \\\\\n",
    "   4 & 5 & 6 \\\\\n",
    "   7 & 8 & 9\n",
    "  \\end{matrix}\n",
    "  \\right\\}\n",
    "$"
   ]
  },
  {
   "cell_type": "code",
   "execution_count": null,
   "metadata": {},
   "outputs": [],
   "source": []
  }
 ],
 "metadata": {
  "kernelspec": {
   "display_name": "Python 3",
   "language": "python",
   "name": "python3"
  },
  "language_info": {
   "codemirror_mode": {
    "name": "ipython",
    "version": 3
   },
   "file_extension": ".py",
   "mimetype": "text/x-python",
   "name": "python",
   "nbconvert_exporter": "python",
   "pygments_lexer": "ipython3",
   "version": "3.6.4"
  }
 },
 "nbformat": 4,
 "nbformat_minor": 2
}
